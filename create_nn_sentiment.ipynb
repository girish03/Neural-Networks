{
 "cells": [
  {
   "cell_type": "code",
   "execution_count": 44,
   "metadata": {},
   "outputs": [],
   "source": [
    "#### TestPython_31-03_2 --- SentimentAnalysis_CreatingNeuralNetwork ####\n",
    "# Changing the model for the sentiment analysis pickle and tweaking initial NN"
   ]
  },
  {
   "cell_type": "code",
   "execution_count": 45,
   "metadata": {},
   "outputs": [],
   "source": [
    "# input> weight> to hidden layer 1 (act. fn)> +weights > hidden layer 2(act. fn)> repeats \n",
    "# Feed forward NN\n",
    "# Compare the o/p with intended o/p > cost fn.(cross entropy)\n",
    "# Optimization fn. (Optimizer) ->Minimize the cost (Adam Optimizer...SGD...Adagradboost...)\n",
    "# This will be done by backpropogation\n",
    "# Feed forward + backprop ---> \"One epoch\"\n",
    "# Repeat epochs till it reduces the cost.. and then stabilizes"
   ]
  },
  {
   "cell_type": "code",
   "execution_count": 35,
   "metadata": {},
   "outputs": [
    {
     "name": "stdout",
     "output_type": "stream",
     "text": [
      "2020\n"
     ]
    }
   ],
   "source": [
    "# from tensorflow.examples.tutorials.mnist import input_data\n",
    "# creating the same python file for the pickle file\n",
    "import tensorflow as tf\n",
    "import nltk\n",
    "from nltk.tokenize import word_tokenize\n",
    "from nltk.stem import WordNetLemmatizer\n",
    "import numpy as np\n",
    "import random\n",
    "import pickle\n",
    "from collections import Counter\n",
    "lemmatizer=WordNetLemmatizer()\n",
    "num_lines=10000000\n",
    "def create_Lexicon(pos,neg):\n",
    "    lexicon=[]\n",
    "    for fi in [pos,neg]:\n",
    "        with open(fi,'r') as f:\n",
    "            contents=f.readlines()\n",
    "            for l in contents[:num_lines]:\n",
    "                all_words=word_tokenize(l.lower())\n",
    "                lexicon+=list(all_words)\n",
    "    lexicon = [lemmatizer.lemmatize(i) for i in lexicon]\n",
    "    w_counts = Counter(lexicon)\n",
    "    # w_counts = {'the': 12345, 'and': 54321}\n",
    "    l2 = []\n",
    "    # l2 is the list of the not super-common but > 50 occurence words\n",
    "    for w in w_counts:\n",
    "        # removing only the words which are not super-common and using only the okayish frequent words.\n",
    "        if 1000 > w_counts[w] > 10:\n",
    "            l2.append(w)\n",
    "    print(len(l2))\n",
    "    return l2\n",
    "def sample_handling(sample,lexicon,classification):\n",
    "    featureset=[]\n",
    "    with open(sample,'r') as f:\n",
    "        contents = f.readlines()\n",
    "        for l in contents[:num_lines]:\n",
    "            current_words = word_tokenize(l.lower())\n",
    "            current_words = [lemmatizer.lemmatize(i) for i in current_words]\n",
    "            features = np.zeros(len(lexicon))\n",
    "            for word in current_words:\n",
    "                if word.lower() in lexicon:\n",
    "                    index_value = lexicon.index(word.lower())\n",
    "                    features[index_value] += 1\n",
    "            features = list(features)\n",
    "            featureset.append([features,classification])\n",
    "    return featureset\n",
    "def create_featureset_and_labels(pos,neg,test_size=0.1):\n",
    "    lexicon = create_Lexicon(pos,neg)\n",
    "    features=[]\n",
    "    features += sample_handling('SentimentAnalysisData/pos.txt',lexicon,[1,0])\n",
    "    features += sample_handling('SentimentAnalysisData/neg.txt',lexicon,[0,1])\n",
    "    random.shuffle(features)\n",
    "    features=np.array(features)\n",
    "    testing_size = int(test_size*len(features))\n",
    "    train_x = list(features[:,0][:-testing_size])\n",
    "    train_y = list(features[:,1][:-testing_size])\n",
    "    \n",
    "    test_x = list(features[:,0][-testing_size:])\n",
    "    test_y = list(features[:,1][-testing_size:])\n",
    "    \n",
    "    return train_x,train_y,test_x,test_y\n",
    "if __name__ == '__main__':\n",
    "    train_x,train_y,test_x,test_y = create_featureset_and_labels('SentimentAnalysisData/pos.txt','SentimentAnalysisData/neg.txt')\n",
    "    with open('sentiment_set_nn.pickle','wb') as f:\n",
    "        pickle.dump([train_x,train_y,test_x,test_y],f)"
   ]
  },
  {
   "cell_type": "code",
   "execution_count": 36,
   "metadata": {},
   "outputs": [],
   "source": [
    "# mnist=input_data.read_data_sets('/tmp/data/',one_hot=True)"
   ]
  },
  {
   "cell_type": "code",
   "execution_count": 37,
   "metadata": {},
   "outputs": [],
   "source": [
    "# This is a multiclass classification of 10 classes... (0-9) class...\n",
    "# Need for one-hot (0=[1,0,0,0,0,0,0,0,0,0],1=[0,1,0,0,0,0,0,0,0,0] ...)"
   ]
  },
  {
   "cell_type": "code",
   "execution_count": 38,
   "metadata": {},
   "outputs": [],
   "source": [
    "n_nodes_hl1=500\n",
    "n_nodes_hl2=500\n",
    "n_nodes_hl3=500\n",
    "n_classes=2\n",
    "batch_size=100"
   ]
  },
  {
   "cell_type": "code",
   "execution_count": 39,
   "metadata": {},
   "outputs": [],
   "source": [
    "# Each matrix will be height * width"
   ]
  },
  {
   "cell_type": "code",
   "execution_count": 40,
   "metadata": {},
   "outputs": [],
   "source": [
    "x=tf.placeholder('float',[None,len(train_x[0])])\n",
    "y=tf.placeholder('float')"
   ]
  },
  {
   "cell_type": "code",
   "execution_count": 41,
   "metadata": {},
   "outputs": [],
   "source": [
    "# Defining the NN :: (Input data * Weights) + Bias\n",
    "def nn_model(data):\n",
    "    # defining the hidden layers and the output layer! (Weights ad biases)\n",
    "    hl_1={\n",
    "        'weights':tf.Variable(tf.random_normal([len(train_x[0]),n_nodes_hl1])),\n",
    "        'biases':tf.Variable(tf.random_normal([n_nodes_hl1]))\n",
    "    }\n",
    "    hl_2={\n",
    "        'weights':tf.Variable(tf.random_normal([n_nodes_hl1,n_nodes_hl2])),\n",
    "        'biases':tf.Variable(tf.random_normal([n_nodes_hl2]))\n",
    "    }\n",
    "    hl_3={\n",
    "        'weights':tf.Variable(tf.random_normal([n_nodes_hl2,n_nodes_hl3])),\n",
    "        'biases':tf.Variable(tf.random_normal([n_nodes_hl3]))\n",
    "    }\n",
    "    opl={\n",
    "        'weights':tf.Variable(tf.random_normal([n_nodes_hl3,n_classes])),\n",
    "        'biases':tf.Variable(tf.random_normal([n_classes]))\n",
    "    }\n",
    "    l1=tf.add(tf.matmul(data,hl_1['weights']),hl_1['biases'])\n",
    "    # relu is the rectified linear value (Activation function)\n",
    "    l1=tf.nn.relu(l1)\n",
    "    #send the data of layer 1 to layer 2\n",
    "    l2=tf.add(tf.matmul(l1,hl_2['weights']),hl_2['biases'])\n",
    "    l2=tf.nn.relu(l2)\n",
    "    l3=tf.add(tf.matmul(l2,hl_3['weights']),hl_3['biases'])\n",
    "    l3=tf.nn.relu(l3)\n",
    "    # output layer: not similar to l1,l2,l3\n",
    "    output=tf.matmul(l3,opl['weights'])+opl['biases']\n",
    "    return output"
   ]
  },
  {
   "cell_type": "code",
   "execution_count": 42,
   "metadata": {},
   "outputs": [],
   "source": [
    "# running data through the nn_model\n",
    "def train_nn(x):\n",
    "    prediction = nn_model(x)\n",
    "    # finding the cost of the nn model\n",
    "    cost = tf.reduce_mean(tf.nn.softmax_cross_entropy_with_logits(logits=prediction,labels=y))\n",
    "    # we want to minimize the cost of the final NN\n",
    "    optimizer=tf.train.AdamOptimizer().minimize(cost)\n",
    "    #setting num of epochs (FF + BP total)\n",
    "    num_epochs=19\n",
    "    with tf.Session() as sess:\n",
    "        sess.run(tf.initialize_all_variables())\n",
    "        for epoch in range(num_epochs):\n",
    "            epoch_loss=0\n",
    "            i=0\n",
    "            while i<len(train_x):\n",
    "                start = i\n",
    "                end = i+batch_size\n",
    "                batch_x=np.array(train_x[start:end])\n",
    "                batch_y=np.array(train_y[start:end])                \n",
    "                _ , c = sess.run([optimizer,cost],feed_dict={x: batch_x , y: batch_y})\n",
    "                epoch_loss += c\n",
    "                i += batch_size\n",
    "            print('\\nEpoch:',epoch+1,'completed out of',num_epochs,'\\nEpoch Loss:',epoch_loss)\n",
    "        # checking the accuracy on the test images!\n",
    "        correct = tf.equal(tf.argmax(prediction,1),tf.argmax(y,1))\n",
    "        accuracy=tf.reduce_mean(tf.cast(correct,'float'))\n",
    "        print('Accuracy:',accuracy.eval({x:test_x, y:test_y}))"
   ]
  },
  {
   "cell_type": "code",
   "execution_count": 43,
   "metadata": {},
   "outputs": [
    {
     "name": "stdout",
     "output_type": "stream",
     "text": [
      "\n",
      "Epoch: 1 completed out of 19 \n",
      "Epoch Loss: 308218.0456542969\n",
      "\n",
      "Epoch: 2 completed out of 19 \n",
      "Epoch Loss: 137315.4803466797\n",
      "\n",
      "Epoch: 3 completed out of 19 \n",
      "Epoch Loss: 73102.39758300781\n",
      "\n",
      "Epoch: 4 completed out of 19 \n",
      "Epoch Loss: 39709.16719818115\n",
      "\n",
      "Epoch: 5 completed out of 19 \n",
      "Epoch Loss: 26041.821071624756\n",
      "\n",
      "Epoch: 6 completed out of 19 \n",
      "Epoch Loss: 33084.365958213806\n",
      "\n",
      "Epoch: 7 completed out of 19 \n",
      "Epoch Loss: 21750.51486968994\n",
      "\n",
      "Epoch: 8 completed out of 19 \n",
      "Epoch Loss: 16204.545599102974\n",
      "\n",
      "Epoch: 9 completed out of 19 \n",
      "Epoch Loss: 8954.821391642094\n",
      "\n",
      "Epoch: 10 completed out of 19 \n",
      "Epoch Loss: 2922.4926240587233\n",
      "\n",
      "Epoch: 11 completed out of 19 \n",
      "Epoch Loss: 1922.2091245651245\n",
      "\n",
      "Epoch: 12 completed out of 19 \n",
      "Epoch Loss: 677.484820146587\n",
      "\n",
      "Epoch: 13 completed out of 19 \n",
      "Epoch Loss: 235.634618371209\n",
      "\n",
      "Epoch: 14 completed out of 19 \n",
      "Epoch Loss: 162.71627555654\n",
      "\n",
      "Epoch: 15 completed out of 19 \n",
      "Epoch Loss: 124.87662774303541\n",
      "\n",
      "Epoch: 16 completed out of 19 \n",
      "Epoch Loss: 92.99425407612244\n",
      "\n",
      "Epoch: 17 completed out of 19 \n",
      "Epoch Loss: 77.25737194599256\n",
      "\n",
      "Epoch: 18 completed out of 19 \n",
      "Epoch Loss: 72.37314909175421\n",
      "\n",
      "Epoch: 19 completed out of 19 \n",
      "Epoch Loss: 67.0262217082828\n",
      "Accuracy: 0.5684803\n"
     ]
    }
   ],
   "source": [
    "train_nn(x)"
   ]
  },
  {
   "cell_type": "code",
   "execution_count": null,
   "metadata": {},
   "outputs": [],
   "source": []
  }
 ],
 "metadata": {
  "kernelspec": {
   "display_name": "Python 3",
   "language": "python",
   "name": "python3"
  },
  "language_info": {
   "codemirror_mode": {
    "name": "ipython",
    "version": 3
   },
   "file_extension": ".py",
   "mimetype": "text/x-python",
   "name": "python",
   "nbconvert_exporter": "python",
   "pygments_lexer": "ipython3",
   "version": "3.6.2"
  }
 },
 "nbformat": 4,
 "nbformat_minor": 2
}
