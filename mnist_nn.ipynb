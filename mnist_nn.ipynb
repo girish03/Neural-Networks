{
 "cells": [
  {
   "cell_type": "code",
   "execution_count": 2,
   "metadata": {},
   "outputs": [],
   "source": [
    "#### TestPython_30-03_2 --- MNIST Dataset NN ####\n",
    "import tensorflow as tf"
   ]
  },
  {
   "cell_type": "code",
   "execution_count": 3,
   "metadata": {},
   "outputs": [],
   "source": [
    "# input> weight> to hidden layer 1 (act. fn)> +weights > hidden layer 2(act. fn)> repeats \n",
    "# Feed forward NN\n",
    "# Compare the o/p with intended o/p > cost fn.(cross entropy)\n",
    "# Optimization fn. (Optimizer) ->Minimize the cost (Adam Optimizer...SGD...Adagradboost...)\n",
    "# This will be done by backpropogation\n",
    "# Feed forward + backprop ---> \"One epoch\"\n",
    "# Repeat epochs till it reduces the cost.. and then stabilizes"
   ]
  },
  {
   "cell_type": "code",
   "execution_count": 7,
   "metadata": {},
   "outputs": [],
   "source": [
    "from tensorflow.examples.tutorials.mnist import input_data"
   ]
  },
  {
   "cell_type": "code",
   "execution_count": 8,
   "metadata": {},
   "outputs": [
    {
     "name": "stdout",
     "output_type": "stream",
     "text": [
      "Extracting /tmp/data/train-images-idx3-ubyte.gz\n",
      "Extracting /tmp/data/train-labels-idx1-ubyte.gz\n",
      "Extracting /tmp/data/t10k-images-idx3-ubyte.gz\n",
      "Extracting /tmp/data/t10k-labels-idx1-ubyte.gz\n"
     ]
    }
   ],
   "source": [
    "mnist=input_data.read_data_sets('/tmp/data/',one_hot=True)"
   ]
  },
  {
   "cell_type": "code",
   "execution_count": 9,
   "metadata": {},
   "outputs": [],
   "source": [
    "# This is a multiclass classification of 10 classes... (0-9) class...\n",
    "# Need for one-hot (0=[1,0,0,0,0,0,0,0,0,0],1=[0,1,0,0,0,0,0,0,0,0] ...)"
   ]
  },
  {
   "cell_type": "code",
   "execution_count": 10,
   "metadata": {},
   "outputs": [],
   "source": [
    "n_nodes_hl1=500\n",
    "n_nodes_hl2=500\n",
    "n_nodes_hl3=500\n",
    "n_classes=10\n",
    "batch_size=100"
   ]
  },
  {
   "cell_type": "code",
   "execution_count": 11,
   "metadata": {},
   "outputs": [],
   "source": [
    "# Each matrix will be height * width"
   ]
  },
  {
   "cell_type": "code",
   "execution_count": 12,
   "metadata": {},
   "outputs": [],
   "source": [
    "x=tf.placeholder('float',[None,784])\n",
    "y=tf.placeholder('float')"
   ]
  },
  {
   "cell_type": "code",
   "execution_count": 18,
   "metadata": {},
   "outputs": [],
   "source": [
    "# Defining the NN :: (Input data * Weights) + Bias\n",
    "def nn_model(data):\n",
    "    # defining the hidden layers and the output layer! (Weights ad biases)\n",
    "    hl_1={\n",
    "        'weights':tf.Variable(tf.random_normal([784,n_nodes_hl1])),\n",
    "        'biases':tf.Variable(tf.random_normal([n_nodes_hl1]))\n",
    "    }\n",
    "    hl_2={\n",
    "        'weights':tf.Variable(tf.random_normal([n_nodes_hl1,n_nodes_hl2])),\n",
    "        'biases':tf.Variable(tf.random_normal([n_nodes_hl2]))\n",
    "    }\n",
    "    hl_3={\n",
    "        'weights':tf.Variable(tf.random_normal([n_nodes_hl2,n_nodes_hl3])),\n",
    "        'biases':tf.Variable(tf.random_normal([n_nodes_hl3]))\n",
    "    }\n",
    "    opl={\n",
    "        'weights':tf.Variable(tf.random_normal([n_nodes_hl3,n_classes])),\n",
    "        'biases':tf.Variable(tf.random_normal([n_classes]))\n",
    "    }\n",
    "    l1=tf.add(tf.matmul(data,hl_1['weights']),hl_1['biases'])\n",
    "    # relu is the rectified linear value (Activation function)\n",
    "    l1=tf.nn.relu(l1)\n",
    "    #send the data of layer 1 to layer 2\n",
    "    l2=tf.add(tf.matmul(l1,hl_2['weights']),hl_2['biases'])\n",
    "    l2=tf.nn.relu(l2)\n",
    "    l3=tf.add(tf.matmul(l2,hl_3['weights']),hl_3['biases'])\n",
    "    l3=tf.nn.relu(l3)\n",
    "    # output layer: not similar to l1,l2,l3\n",
    "    output=tf.matmul(l3,opl['weights'])+opl['biases']\n",
    "    return output"
   ]
  },
  {
   "cell_type": "code",
   "execution_count": 19,
   "metadata": {},
   "outputs": [],
   "source": [
    "# running data through the nn_model\n",
    "def train_nn(x):\n",
    "    prediction = nn_model(x)\n",
    "    # finding the cost of the nn model\n",
    "    cost = tf.reduce_mean(tf.nn.softmax_cross_entropy_with_logits(logits=prediction,labels=y))\n",
    "    # we want to minimize the cost of the final NN\n",
    "    optimizer=tf.train.AdamOptimizer().minimize(cost)\n",
    "    #setting num of epochs (FF + BP total)\n",
    "    num_epochs=10\n",
    "    with tf.Session() as sess:\n",
    "        sess.run(tf.initialize_all_variables())\n",
    "        for epoch in range(num_epochs):\n",
    "            epoch_loss=0\n",
    "            for _ in range(int(mnist.train.num_examples/batch_size)):\n",
    "                epoch_x , epoch_y = mnist.train.next_batch(batch_size)\n",
    "                _ , c = sess.run([optimizer,cost],feed_dict={x: epoch_x , y: epoch_y})\n",
    "                epoch_loss += c\n",
    "            print('\\nEpoch:',epoch+1,'completed out of',num_epochs,'\\nEpoch Loss:',epoch_loss)\n",
    "        # checking the accuracy on the test images!\n",
    "        correct = tf.equal(tf.argmax(prediction,1),tf.argmax(y,1))\n",
    "        accuracy=tf.reduce_mean(tf.cast(correct,'float'))\n",
    "        print('Accuracy:',accuracy.eval({x:mnist.test.images, y:mnist.test.labels}))"
   ]
  },
  {
   "cell_type": "code",
   "execution_count": 20,
   "metadata": {},
   "outputs": [
    {
     "name": "stdout",
     "output_type": "stream",
     "text": [
      "\n",
      "Epoch: 1 completed out of 10 \n",
      "Epoch Loss: 1803785.0921020508\n",
      "\n",
      "Epoch: 2 completed out of 10 \n",
      "Epoch Loss: 415123.2942123413\n",
      "\n",
      "Epoch: 3 completed out of 10 \n",
      "Epoch Loss: 226654.1690683365\n",
      "\n",
      "Epoch: 4 completed out of 10 \n",
      "Epoch Loss: 134948.86471283436\n",
      "\n",
      "Epoch: 5 completed out of 10 \n",
      "Epoch Loss: 85167.71981263328\n",
      "\n",
      "Epoch: 6 completed out of 10 \n",
      "Epoch Loss: 52569.688887779135\n",
      "\n",
      "Epoch: 7 completed out of 10 \n",
      "Epoch Loss: 35291.237476603186\n",
      "\n",
      "Epoch: 8 completed out of 10 \n",
      "Epoch Loss: 23967.68185181459\n",
      "\n",
      "Epoch: 9 completed out of 10 \n",
      "Epoch Loss: 22684.38639122664\n",
      "\n",
      "Epoch: 10 completed out of 10 \n",
      "Epoch Loss: 20137.978536128998\n",
      "Accuracy: 0.9492\n"
     ]
    }
   ],
   "source": [
    "train_nn(x)"
   ]
  },
  {
   "cell_type": "code",
   "execution_count": null,
   "metadata": {
    "collapsed": true
   },
   "outputs": [],
   "source": []
  }
 ],
 "metadata": {
  "kernelspec": {
   "display_name": "Python 3",
   "language": "python",
   "name": "python3"
  },
  "language_info": {
   "codemirror_mode": {
    "name": "ipython",
    "version": 3
   },
   "file_extension": ".py",
   "mimetype": "text/x-python",
   "name": "python",
   "nbconvert_exporter": "python",
   "pygments_lexer": "ipython3",
   "version": "3.6.2"
  }
 },
 "nbformat": 4,
 "nbformat_minor": 2
}
