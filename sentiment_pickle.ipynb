{
 "cells": [
  {
   "cell_type": "code",
   "execution_count": 6,
   "metadata": {},
   "outputs": [],
   "source": [
    "#### TestPython_31-03_1 --- ProcessingOwnData_SentimentAnalysis_CreatingPickle ####\n",
    "import tensorflow as tf"
   ]
  },
  {
   "cell_type": "code",
   "execution_count": 7,
   "metadata": {},
   "outputs": [],
   "source": [
    "# Working on real data\n",
    "# Positive or negative sentiment dataset\n",
    "# https://pythonprogramming.net/using-our-own-data-tensorflow-deep-learning-tutorial/\n",
    "# Download the positive as well as the negative files from the webpage and save both."
   ]
  },
  {
   "cell_type": "code",
   "execution_count": 8,
   "metadata": {},
   "outputs": [],
   "source": [
    "# the data is string form\n",
    "# so we convert them into tensors\n",
    "# we give words unique id\n",
    "# we have to send exact same size strings every time\n",
    "# We create a lexicon of words"
   ]
  },
  {
   "cell_type": "code",
   "execution_count": 9,
   "metadata": {},
   "outputs": [],
   "source": [
    "# Example -> [chair,table,spoon,television] is our lexicon\n",
    "# So we take a new String... \"I pulled the chair up to the table\"\n",
    "# Thus the new array will be [0 0 0 0] --> [1 1 0 0]\n",
    "# We work this for the entire dataset"
   ]
  },
  {
   "cell_type": "code",
   "execution_count": 10,
   "metadata": {},
   "outputs": [],
   "source": [
    "import nltk"
   ]
  },
  {
   "cell_type": "code",
   "execution_count": 11,
   "metadata": {},
   "outputs": [],
   "source": [
    "# NLTK is used for sentiment analysis\n",
    "# word_tokenize is to convert sentence into word array"
   ]
  },
  {
   "cell_type": "code",
   "execution_count": 13,
   "metadata": {},
   "outputs": [],
   "source": [
    "from nltk.tokenize import word_tokenize\n",
    "# read nltk from pp.net"
   ]
  },
  {
   "cell_type": "code",
   "execution_count": 14,
   "metadata": {},
   "outputs": [],
   "source": [
    "from nltk.stem import WordNetLemmatizer\n",
    "# read from pp.net (stemming, lemmatizing**)"
   ]
  },
  {
   "cell_type": "code",
   "execution_count": 15,
   "metadata": {},
   "outputs": [],
   "source": [
    "import numpy as np\n",
    "import random\n",
    "import pickle\n",
    "from collections import Counter"
   ]
  },
  {
   "cell_type": "code",
   "execution_count": 16,
   "metadata": {},
   "outputs": [],
   "source": [
    "lemmatizer=WordNetLemmatizer()\n",
    "num_lines=10000000"
   ]
  },
  {
   "cell_type": "code",
   "execution_count": 17,
   "metadata": {},
   "outputs": [],
   "source": [
    "# Can get a memory error here.. so you could reduce the number of layers..."
   ]
  },
  {
   "cell_type": "code",
   "execution_count": 33,
   "metadata": {},
   "outputs": [],
   "source": [
    "def create_Lexicon(pos,neg):\n",
    "    lexicon=[]\n",
    "    for fi in [pos,neg]:\n",
    "        with open(fi,'r') as f:\n",
    "            contents=f.readlines()\n",
    "            for l in contents[:num_lines]:\n",
    "                all_words=word_tokenize(l.lower())\n",
    "                lexicon+=list(all_words)\n",
    "    lexicon = [lemmatizer.lemmatize(i) for i in lexicon]\n",
    "    w_counts = Counter(lexicon)\n",
    "    # w_counts = {'the': 12345, 'and': 54321}\n",
    "    l2 = []\n",
    "    # l2 is the list of the not super-common but > 50 occurence words\n",
    "    for w in w_counts:\n",
    "        # removing only the words which are not super-common and using only the okayish frequent words.\n",
    "        if 1000 > w_counts[w] > 50:\n",
    "            l2.append(w)\n",
    "    print(len(l2))\n",
    "    return l2"
   ]
  },
  {
   "cell_type": "code",
   "execution_count": 34,
   "metadata": {},
   "outputs": [],
   "source": [
    "def sample_handling(sample,lexicon,classification):\n",
    "    featureset=[]\n",
    "    with open(sample,'r') as f:\n",
    "        contents = f.readlines()\n",
    "        for l in contents[:num_lines]:\n",
    "            current_words = word_tokenize(l.lower())\n",
    "            current_words = [lemmatizer.lemmatize(i) for i in current_words]\n",
    "            features = np.zeros(len(lexicon))\n",
    "            for word in current_words:\n",
    "                if word.lower() in lexicon:\n",
    "                    index_value = lexicon.index(word.lower())\n",
    "                    features[index_value] += 1\n",
    "            features = list(features)\n",
    "            featureset.append([features,classification])\n",
    "    return featureset"
   ]
  },
  {
   "cell_type": "code",
   "execution_count": 35,
   "metadata": {},
   "outputs": [],
   "source": [
    "def create_featureset_and_labels(pos,neg,test_size=0.1):\n",
    "    lexicon = create_Lexicon(pos,neg)\n",
    "    features=[]\n",
    "    features += sample_handling('SentimentAnalysisData/pos.txt',lexicon,[1,0])\n",
    "    features += sample_handling('SentimentAnalysisData/neg.txt',lexicon,[0,1])\n",
    "    random.shuffle(features)\n",
    "    features=np.array(features)\n",
    "    testing_size = int(test_size*len(features))\n",
    "    train_x = list(features[:,0][:-testing_size])\n",
    "    train_y = list(features[:,1][:-testing_size])\n",
    "    \n",
    "    test_x = list(features[:,0][-testing_size:])\n",
    "    test_y = list(features[:,1][-testing_size:])\n",
    "    \n",
    "    return train_x,train_y,test_x,test_y"
   ]
  },
  {
   "cell_type": "code",
   "execution_count": 36,
   "metadata": {},
   "outputs": [],
   "source": [
    "# Finally we have to check whether tf.argmax([output]) == tf.argmax([expectations])"
   ]
  },
  {
   "cell_type": "code",
   "execution_count": 37,
   "metadata": {},
   "outputs": [
    {
     "name": "stdout",
     "output_type": "stream",
     "text": [
      "423\n"
     ]
    }
   ],
   "source": [
    "if __name__ == '__main__':\n",
    "    train_x,train_y,test_x,test_y = create_featureset_and_labels('SentimentAnalysisData/pos.txt','SentimentAnalysisData/neg.txt')\n",
    "    with open('sentiment_set.pickle','wb') as f:\n",
    "        pickle.dump([train_x,train_y,test_x,test_y],f)"
   ]
  },
  {
   "cell_type": "code",
   "execution_count": null,
   "metadata": {},
   "outputs": [],
   "source": []
  },
  {
   "cell_type": "code",
   "execution_count": null,
   "metadata": {},
   "outputs": [],
   "source": []
  },
  {
   "cell_type": "code",
   "execution_count": null,
   "metadata": {},
   "outputs": [],
   "source": []
  },
  {
   "cell_type": "code",
   "execution_count": null,
   "metadata": {},
   "outputs": [],
   "source": []
  }
 ],
 "metadata": {
  "kernelspec": {
   "display_name": "Python 3",
   "language": "python",
   "name": "python3"
  },
  "language_info": {
   "codemirror_mode": {
    "name": "ipython",
    "version": 3
   },
   "file_extension": ".py",
   "mimetype": "text/x-python",
   "name": "python",
   "nbconvert_exporter": "python",
   "pygments_lexer": "ipython3",
   "version": "3.6.2"
  }
 },
 "nbformat": 4,
 "nbformat_minor": 2
}
